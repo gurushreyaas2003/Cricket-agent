{
  "nbformat": 4,
  "nbformat_minor": 0,
  "metadata": {
    "colab": {
      "provenance": []
    },
    "kernelspec": {
      "name": "python3",
      "display_name": "Python 3"
    },
    "language_info": {
      "name": "python"
    }
  },
  "cells": [
    {
      "cell_type": "code",
      "execution_count": null,
      "metadata": {
        "id": "Y1i5CVtUjP2L"
      },
      "outputs": [],
      "source": [
        "import numpy as np\n",
        "import time\n",
        "# Students will submit their files with their team-name.py\n",
        "# Student have to use the Team as their parent class"
      ]
    },
    {
      "cell_type": "code",
      "source": [
        "from scipy.optimize import minimize_scalar\n",
        "class Agent:\n",
        "  def __init__(self):\n",
        "    self.time = 1\n",
        "\n",
        "  def get_action(self, wickets, runs_scored):\n",
        "    action = self.kl_ucb()\n",
        "    self.time +=1\n",
        "    return action\n",
        "\n",
        "  def KL(self):\n",
        "    weights = []\n",
        "    for i in range(6):\n",
        "      C = (np.log(self.time) + 3*np.log(np.log(self.time)))\n",
        "      q = minimize_scalar(lambda q: (np.log(1/(1-q)) - C)**2,bounds=(0,1)).x\n",
        "      weights.append(min(q,1))\n",
        "    return weights\n",
        "\n",
        "  def kl_ucb(self):\n",
        "    if self.time < 7:\n",
        "      return self.time-1\n",
        "    UCB_weight = self.KL()\n",
        "    a_t = np.argmax(UCB_weight)\n",
        "    return a_t\n",
        "\n"
      ],
      "metadata": {
        "id": "ii9-mur-l_IC"
      },
      "execution_count": null,
      "outputs": []
    },
    {
      "cell_type": "code",
      "source": [
        "class Environment:\n",
        "  def __init__(self,num_balls,agent):\n",
        "    self.num_balls = num_balls\n",
        "    self.agent = agent\n",
        "    self.__run_time = 0\n",
        "    self.__total_runs = 0\n",
        "    self.__total_wickets = 0\n",
        "    self.__runs_scored = 0\n",
        "    self.__start_time = 0\n",
        "    self.__wicket = 0\n",
        "    self.__end_time = 0\n",
        "    self.__regret_w = 0\n",
        "    self.__regret_s = 0\n",
        "    self.__regret_rho = 0\n",
        "    self.__p_out =np.array([0.001,0.01,0.02,0.03,0.1,0.3])\n",
        "    self.__p_run =np.array([1,0.9,0.85,0.8,0.75,0.7])\n",
        "    self.__action_runs_map = np.array([0,1,2,3,4,6])\n",
        "    self.__s = (1-self.__p_out)*self.__p_run*self.__action_runs_map\n",
        "    self.__rho = self.__s/self.__p_out\n",
        "\n",
        "\n",
        "  def __get_action(self):\n",
        "    self.__start_time = time.time()\n",
        "    action  = self.agent.get_action(self.__runs_scored, self.__wicket)\n",
        "    self.__end_time  = time. time()\n",
        "    self.__run_time = self.__run_time + self.__end_time - self.__start_time\n",
        "    return action\n",
        "\n",
        "\n",
        "  def __get_outcome(self, action):\n",
        "    pout = self.__p_out[action]\n",
        "    prun= self.__p_run[action]\n",
        "    wicket = np.random.choice(2,1,p=[1-pout,pout])[0]\n",
        "    runs = 0\n",
        "    if(wicket==0):\n",
        "      runs = self.__action_runs_map[action]*np.random.choice(2,1,p=[1-prun,prun])[0]\n",
        "    return wicket, runs\n",
        "\n",
        "\n",
        "  def innings(self):\n",
        "    self.__total_runs = 0\n",
        "    self.__total_wickets = 0\n",
        "    self.__runs_scored = 0\n",
        "\n",
        "    for ball in range(self.num_balls):\n",
        "      action = self.__get_action()\n",
        "      self.__wicket, self.__runs_scored   = self.__get_outcome(action)\n",
        "      self.__total_runs     = self.__total_runs + self.__runs_scored\n",
        "      self.__total_wickets  = self.__total_wickets + self.__wicket\n",
        "      self.__regret_w       = self.__regret_w+ (self.__p_out[action]-np.min(self.__p_out))\n",
        "      self.__regret_s       = self.__regret_s - ((1-self.__p_out[action])*self.__p_run[action]*self.__action_runs_map[action]-np.max(self.__s))\n",
        "      self.__regret_rho       = self.__regret_rho- ((1-self.__p_out[action])*self.__p_run[action]*self.__action_runs_map[action]/self.__p_out[action]-np.max(self.__rho))\n",
        "    return self.__regret_w,self.__regret_s,self.__regret_rho, self.__total_runs, self.__total_wickets, self.__run_time\n"
      ],
      "metadata": {
        "id": "DcqvDiYBjeQT"
      },
      "execution_count": null,
      "outputs": []
    },
    {
      "cell_type": "code",
      "source": [
        "class Agent2:\n",
        "  def __init__(self):\n",
        "    self.no_arms = 6\n",
        "    self.action_score = np.zeros(self.no_arms)\n",
        "    self.time = 1\n",
        "    self.arm_pull = np.ones(self.no_arms)\n",
        "\n",
        "  def get_action(self,runs_scored, wicket):\n",
        "    action = self.KL_UCB()\n",
        "    self.time+=1\n",
        "    self.weight(action,runs_scored)\n",
        "    return action\n",
        "\n",
        "  def weight(self,action ,runs_scored):\n",
        "    self.action_score[action] = (self.arm_pull[action]*self.action_score[action] + runs_scored)/(self.arm_pull[action]+1)\n",
        "    self.arm_pull[action] +=1\n",
        "\n",
        "  def KL_UCB_update(self):\n",
        "    return self.action_score + np.sqrt(1.5*np.log(self.time)/self.arm_pull)\n",
        "\n",
        "  def KL_UCB(self):\n",
        "    if self.time<7:\n",
        "      return self.time-1\n",
        "    UCB_score = self.KL_UCB_update()\n",
        "    action = np.argmax(UCB_score)\n",
        "    return action"
      ],
      "metadata": {
        "id": "zuaBPs_zufXo"
      },
      "execution_count": null,
      "outputs": []
    },
    {
      "cell_type": "code",
      "source": [
        "class Agent3:\n",
        "  def __init__(self):\n",
        "      self.actions=np.array([0,1,2,3,4,5])\n",
        "      self.balls=0\n",
        "      self.K=len(self.actions)\n",
        "      self.arm_rewards=np.zeros(self.K)\n",
        "      self.arm_costs=np.zeros(self.K)\n",
        "      self.prev_action=0\n",
        "      self.act_ind=0\n",
        "      self.iter=1\n",
        "      self.delta=0.05\n",
        "      self.rate_estimator=np.zeros(self.K)\n",
        "\n",
        "  def get_action(self,wicket,runs_scored):\n",
        "\n",
        "    if self.balls==0:\n",
        "      self.balls+=1\n",
        "      return 0\n",
        "\n",
        "    if len(self.actions)==1:\n",
        "      self.balls+=1\n",
        "      print(self.actions[0])\n",
        "      return self.actions[0]\n",
        "\n",
        "    if self.act_ind<len(self.actions):\n",
        "      self.arm_rewards[self.prev_action]+= runs_scored\n",
        "      self.arm_costs[self.prev_action]+= wicket\n",
        "\n",
        "      action = self.actions[self.act_ind]\n",
        "      self.act_ind+=1\n",
        "      self.prev_action=action\n",
        "\n",
        "    else:\n",
        "      self.arm_rewards[self.prev_action]+= runs_scored\n",
        "      self.arm_costs[self.prev_action]+= wicket\n",
        "\n",
        "      best_arm=np.argmax([(self.arm_rewards[i]+1e-6)/(self.arm_costs[i]+1e-6) for i in self.actions])\n",
        "      beta_t= np.sqrt(np.log(4*self.K/self.delta)/2*self.iter)\n",
        "\n",
        "      for arm in self.actions[self.actions != best_arm]:\n",
        "        if self.arm_rewards[arm]-2*beta_t<=0:\n",
        "          continue\n",
        "        elif ((self.arm_rewards[best_arm]- beta_t)/(self.arm_costs[best_arm]+ beta_t))> ((self.arm_rewards[arm]+ beta_t)/(self.arm_costs[arm]- beta_t)):\n",
        "          self.actions=self.actions[self.actions!=arm]\n",
        "      self.act_ind=0\n",
        "      action=self.actions[self.act_ind]\n",
        "      self.act_ind+=1\n",
        "      self.prev_action=action\n",
        "      self.iter+=1\n",
        "    print(action)\n",
        "    return action\n",
        "\n",
        "\n"
      ],
      "metadata": {
        "id": "fFTCDQTeyb7r"
      },
      "execution_count": null,
      "outputs": []
    },
    {
      "cell_type": "code",
      "source": [
        "agent = Agent3()\n",
        "environment = Environment(100,agent)\n",
        "regret_w,regret_s,reger_rho,total_runs,total_wickets,run_time = environment.innings()"
      ],
      "metadata": {
        "id": "buhPm5fQjiuE"
      },
      "execution_count": null,
      "outputs": []
    },
    {
      "cell_type": "code",
      "source": [
        "print(regret_w,regret_s,reger_rho,total_runs,total_wickets,run_time)"
      ],
      "metadata": {
        "colab": {
          "base_uri": "https://localhost:8080/"
        },
        "id": "6FJzkwVmjn9h",
        "outputId": "08ee8f4c-733e-4590-f27f-d03782d5ac4c"
      },
      "execution_count": null,
      "outputs": [
        {
          "output_type": "stream",
          "name": "stdout",
          "text": [
            "7.308000000000007 123.04299999999984 4148.800000000001 169 9 0.054882049560546875\n"
          ]
        }
      ]
    },
    {
      "cell_type": "code",
      "source": [],
      "metadata": {
        "id": "RWlHGOrcvKW7"
      },
      "execution_count": null,
      "outputs": []
    }
  ]
}