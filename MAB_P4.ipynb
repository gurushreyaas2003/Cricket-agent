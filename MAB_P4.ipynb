{
  "nbformat": 4,
  "nbformat_minor": 0,
  "metadata": {
    "colab": {
      "provenance": []
    },
    "kernelspec": {
      "name": "python3",
      "display_name": "Python 3"
    },
    "language_info": {
      "name": "python"
    }
  },
  "cells": [
    {
      "cell_type": "code",
      "source": [
        "import numpy as np\n",
        "import time as time"
      ],
      "metadata": {
        "id": "R3oU6YDPh5pz"
      },
      "execution_count": null,
      "outputs": []
    },
    {
      "cell_type": "code",
      "execution_count": null,
      "metadata": {
        "id": "uvdjof9VhltY"
      },
      "outputs": [],
      "source": [
        "class Agent:\n",
        "  def __init__(self):\n",
        "    self.weights = np.zeros(6)\n",
        "    self.s = np.ones(6)\n",
        "    self.t = 1\n",
        "\n",
        "  def get_action(self,runs_scored,Q_no=1):\n",
        "    action = self.kl_ucb()\n",
        "    self.t+=1\n",
        "    # print(action, self.weights)\n",
        "    return action\n",
        "\n",
        "  def get_KL(self,w,q):\n",
        "    if w==0:\n",
        "      KL = np.log(1/(1-q))\n",
        "    else:\n",
        "      KL = w*np.log(w/q) + (1-w)*np.log((1-w)/(1-q))\n",
        "    return KL\n",
        "\n",
        "  def get_kl_ucb(self):\n",
        "    # return self.weights + np.sqrt(1.5*np.log(self.t)/self.s)\n",
        "    UCB = []\n",
        "    for i in range(6):\n",
        "      w = self.weights[i]\n",
        "      C = (np.log(self.t) + 3*np.log(np.log(self.t)))/self.s[i]\n",
        "      q = minimize_scalar(lambda q: (self.get_KL(w,q) - C)**2,bounds=(w,1)).x\n",
        "      UCB.append(min(q,1))\n",
        "    return UCB\n",
        "\n",
        "  def get_kl_lcb(self):\n",
        "    # return self.weights - np.sqrt(1.5*np.log(self.t)/self.s)\n",
        "    UCB = []\n",
        "    for i in range(6):\n",
        "      w = self.weights[i]\n",
        "      C = (np.log(self.t) + 3*np.log(np.log(self.t)))/self.s[i]\n",
        "      q = minimize_scalar(lambda q: (self.get_KL(w,q) - C)**2,bounds=(0,w)).x\n",
        "      UCB.append(max(q,0))\n",
        "    return UCB\n",
        "\n",
        "  def kl_ucb(self):\n",
        "    if self.t<7:\n",
        "      return self.t-1\n",
        "    # return np.random.randint(0,6)\n",
        "    KL_UCB = self.get_kl_ucb()\n",
        "    a_t = np.argmax(KL_UCB)\n",
        "    return a_t\n",
        "\n",
        "  def kl_lcb(self):\n",
        "    if self.t<7:\n",
        "      return self.t-1\n",
        "    # return np.random.randint(0,6)\n",
        "    KL_UCB = self.get_kl_lcb()\n",
        "    a_t = np.argmin(KL_UCB)\n",
        "    return a_t\n",
        "\n",
        "\n",
        "\n"
      ]
    },
    {
      "cell_type": "code",
      "source": [
        "class Environment:\n",
        "  def __init__(self,num_balls,agent):\n",
        "    self.num_balls = num_balls\n",
        "    self.agent = agent\n",
        "    self.__run_time = 0\n",
        "    self.__total_runs = 0\n",
        "    self.__total_wickets = 0\n",
        "    self.__runs_scored = 0\n",
        "    self.__start_time = 0\n",
        "    self.__end_time = 0\n",
        "    self.__p_out =np.array([0.001,0.01,0.02,0.03,0.1,0.3])\n",
        "    self.__p_run =np.array([1,0.9,0.85,0.8,0.75,0.7])\n",
        "    self.__action_runs_map = np.array([0,1,2,3,4,6])\n",
        "    self.__wickets_left = 4\n",
        "    self.__runs_scored = 0\n",
        "    self.__start_time = 0\n",
        "    self.__end_time = 0\n",
        "    self.__batting_order = np.array([0,1,2,3,4])\n",
        "\n",
        "  def __get_action(self):\n",
        "    self.__start_time      = time. time()\n",
        "    action          = self.agent.get_action(self.__wicket, self.__runs_scored)\n",
        "    self.__end_time        = time. time()\n",
        "    self.__run_time   = self.__run_time + self.__end_time - self.__start_time\n",
        "    return action\n",
        "\n",
        "\n",
        "  def __get_outcome(self, action):\n",
        "    pout = self.__p_out[action]\n",
        "    prun = self.__p_run[action]\n",
        "    wicket = np.random.choice(2,1,p=[1-pout,pout])[0]\n",
        "    runs = 0\n",
        "    if(wicket==0):\n",
        "      runs = self.__action_runs_map[action]*np.random.choice(2,1,p=[1-prun,prun])[0]\n",
        "    return wicket, runs\n",
        "\n",
        "\n",
        "  def innings(self):\n",
        "    self.__wickets_left = 4\n",
        "    self.__runs_scored = 0\n",
        "\n",
        "    for ball in range(self.num_balls):\n",
        "      if (self.__wickets_left > 0 ) :\n",
        "        action = self.__get_action()\n",
        "        self.__wicket, self.__runs_scored   = self.__get_outcome(action)\n",
        "        self.__total_runs     = self.__total_runs + self.__runs_scored\n",
        "        if (self.__wicket > 0 ):\n",
        "          self.__wickets_left = self.__wickets_left -1\n",
        "        self.__total_wickets  = self.__total_wickets + self.__wicket\n",
        "        if (self.__wickets_left == 0):\n",
        "          self.__get_action()\n",
        "    return self.__total_runs, self.__total_wickets, self.__run_time\n"
      ],
      "metadata": {
        "id": "wJZci8lghwC_"
      },
      "execution_count": null,
      "outputs": []
    },
    {
      "cell_type": "code",
      "source": [
        "num_matches = 10\n",
        "num_balls = 60\n",
        "agent = Agent(num_balls,num_matches)\n",
        "environment = Environment(100,agent)\n",
        "score = np.zeros((num_matches,1))\n",
        "run_time = np.zeros((num_matches,1))\n",
        "wicket = np.zeros((num_matches,1))\n",
        "for i in range(num_matches):\n",
        "  score[i],wicket[i],run_time[i] = environment.innings()\n"
      ],
      "metadata": {
        "id": "daVymaGch0XI"
      },
      "execution_count": null,
      "outputs": []
    }
  ]
}